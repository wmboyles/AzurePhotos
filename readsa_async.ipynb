{
 "cells": [
  {
   "cell_type": "code",
   "execution_count": 2,
   "metadata": {},
   "outputs": [],
   "source": [
    "from azure.identity.aio import DefaultAzureCredential\n",
    "from azure.storage.blob.aio import ContainerClient, BlobPrefix\n",
    "import asyncio\n",
    "from azure.storage.blob import BlobProperties\n",
    "import os\n",
    "\n",
    "account_url = f\"https://wboylesbackups.blob.core.windows.net\"\n",
    "credential = DefaultAzureCredential()\n"
   ]
  },
  {
   "cell_type": "code",
   "execution_count": 3,
   "metadata": {},
   "outputs": [],
   "source": [
    "# If out_path is None, file is downloaded to local with same name as in Azure\n",
    "async def download_blob(container_name: str, blob_name: str, out_path: str | None = None):\n",
    "    if out_path is None:\n",
    "        out_path = container_name + blob_name\n",
    "\n",
    "    container_client = ContainerClient(account_url, container_name, credential=credential)  # type: ignore\n",
    "\n",
    "    async with container_client:\n",
    "        with open(out_path, \"wb\") as f:\n",
    "            blob_stream = await container_client.download_blob(blob_name)\n",
    "            await blob_stream.readinto(f)"
   ]
  },
  {
   "cell_type": "code",
   "execution_count": 4,
   "metadata": {},
   "outputs": [],
   "source": [
    "from typing import AsyncGenerator\n",
    "\n",
    "async def list_blobs_async(container_name: str, prefix: str = \"\") -> AsyncGenerator[BlobProperties, None]:\n",
    "    container_client = ContainerClient(account_url, container_name, credential) # type: ignore\n",
    "\n",
    "    async with container_client:\n",
    "        async for blob in container_client.walk_blobs(name_starts_with=prefix):\n",
    "            if isinstance(blob, BlobPrefix):\n",
    "                name: str = blob.name # type: ignore\n",
    "\n",
    "                async for subblob in list_blobs_async(container_name, prefix=name):\n",
    "                    yield subblob\n",
    "\n",
    "            yield blob"
   ]
  },
  {
   "cell_type": "code",
   "execution_count": 5,
   "metadata": {},
   "outputs": [],
   "source": [
    "async def create_folder_async(container_name: str, folder_name: str):\n",
    "    container_client = ContainerClient(account_url, container_name, credential) # type: ignore\n",
    "\n",
    "    # This is a hack, but it works better than using the data lake file system\n",
    "    uploaded_blob_client = await container_client.upload_blob(f\"{folder_name}/_\", \"\")\n",
    "    await uploaded_blob_client.delete_blob()"
   ]
  },
  {
   "cell_type": "code",
   "execution_count": 6,
   "metadata": {},
   "outputs": [],
   "source": [
    "# If azure_path is None, then file is uploaded to container base with same name as local\n",
    "async def upload_file_async(container_name: str, local_path: str, azure_path: str | None = None):\n",
    "    if azure_path is None:\n",
    "        azure_path = os.path.basename(local_path)\n",
    "\n",
    "    container_client = ContainerClient(account_url, container_name, credential) # type: ignore\n",
    "\n",
    "    async with container_client:\n",
    "        with open(local_path,\"rb\") as f:\n",
    "            await container_client.upload_blob(azure_path, f)"
   ]
  },
  {
   "cell_type": "code",
   "execution_count": null,
   "metadata": {},
   "outputs": [],
   "source": [
    "# Deletes blobs recursively\n",
    "# If deleting a directory, do not include a trailing / in the blob_name, otherwise the directory itself  will not be deleted\n",
    "async def delete_blob(container_name: str, blob_name: str):\n",
    "    container_client = ContainerClient(account_url, container_name, credential) # type: ignore\n",
    "    \n",
    "    async with container_client:\n",
    "        tasks = []\n",
    "        files: list[BlobProperties] = []\n",
    "        folders: list[str] = []\n",
    "\n",
    "        async for blob_props in list_blobs_async(container_name, blob_name):\n",
    "            if str(blob_props.name).endswith(\"/\"):\n",
    "                # Trying to delete a folder with the / in the name causes a resource not found error\n",
    "                altered_name = str(blob_props.name).removesuffix(\"/\")\n",
    "                folders.append(altered_name)\n",
    "            else:\n",
    "                files.append(blob_props)\n",
    "\n",
    "        await container_client.delete_blobs(*files)\n",
    "\n",
    "        # We can't use delete_blobs here because there's no ordering gurantee.\n",
    "        # So, we'll get an error if we try to delete a parent folder before all descendents.\n",
    "        # Same problem with for asyncio.gather.\n",
    "        for folder in folders:\n",
    "            await container_client.delete_blob(folder)      "
   ]
  },
  {
   "cell_type": "code",
   "execution_count": 7,
   "metadata": {},
   "outputs": [],
   "source": [
    "# uploads all files in a local folder\n",
    "# folder structure is flattened, and all files are in upload/ directory in storage account\n",
    "async def upload_folder_async(container_name: str, local_folder_path: str, azure_folder_name: str):\n",
    "    if not os.path.exists(local_folder_path):\n",
    "        raise FileNotFoundError(f\"{local_folder_path} not found\")\n",
    "    if not os.path.isdir(local_folder_path):\n",
    "        raise NotADirectoryError(f\"{local_folder_path} is not a directory\")\n",
    "    \n",
    "    tasks = []\n",
    "    path = os.path.abspath(local_folder_path)\n",
    "    for dir in os.walk(path):\n",
    "        dirpath, _, filenames = dir\n",
    "\n",
    "        for filename in filenames:\n",
    "            tasks.append(asyncio.create_task(upload_file_async(container_name, f\"{dirpath}/{filename}\", f\"{azure_folder_name}/{filename}\")))\n",
    "\n",
    "    await asyncio.gather(*tasks)\n",
    "\n",
    "# TODO: We can do this create nested directories. Could we use this to improve upload_folder?\n",
    "#await upload_folder_async(\"videos\", \"C:\\\\Users\\\\willi\\\\git\\\\lightsout_c\", \"upload\")\n",
    "#await upload_folder_async(\"videos\", \"C:\\\\Users\\\\willi\\\\git\\\\lightsout_c\", \"upload/upload2\")  "
   ]
  }
 ],
 "metadata": {
  "kernelspec": {
   "display_name": "AzurePhotos",
   "language": "python",
   "name": "python3"
  },
  "language_info": {
   "codemirror_mode": {
    "name": "ipython",
    "version": 3
   },
   "file_extension": ".py",
   "mimetype": "text/x-python",
   "name": "python",
   "nbconvert_exporter": "python",
   "pygments_lexer": "ipython3",
   "version": "3.11.0"
  },
  "orig_nbformat": 4
 },
 "nbformat": 4,
 "nbformat_minor": 2
}
