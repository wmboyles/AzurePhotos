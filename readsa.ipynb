{
 "cells": [
  {
   "cell_type": "code",
   "execution_count": 7,
   "metadata": {},
   "outputs": [],
   "source": [
    "from azure.identity import DefaultAzureCredential\n",
    "from azure.storage.blob import BlobPrefix, ContainerClient, BlobProperties, BlobClient"
   ]
  },
  {
   "cell_type": "code",
   "execution_count": 8,
   "metadata": {},
   "outputs": [],
   "source": [
    "account_url = f\"https://wboylesbackups.blob.core.windows.net\"\n",
    "credential = DefaultAzureCredential()"
   ]
  },
  {
   "cell_type": "code",
   "execution_count": 9,
   "metadata": {},
   "outputs": [],
   "source": [
    "def download_blob(container_name: str, blob_name: str, out_filename: str | None = None):\n",
    "    if out_filename is None:\n",
    "        out_filename = container_name + blob_name\n",
    "\n",
    "    blob_client = BlobClient(account_url, container_name, blob_name, credential=credential)\n",
    "\n",
    "    with open(out_filename, \"wb\") as f:\n",
    "        f.write(blob_client.download_blob().readall())"
   ]
  },
  {
   "cell_type": "code",
   "execution_count": 10,
   "metadata": {},
   "outputs": [],
   "source": [
    "# Returns list of BlobProperties in preorder traversal\n",
    "# Does not include folders, only files\n",
    "# TODO: This does not properly show empty directories\n",
    "def list_blobs(container_name: str, prefix: str = \"\") -> list[BlobProperties]:\n",
    "    blobs: list[BlobProperties] = []\n",
    "    container_client = ContainerClient(account_url, container_name, credential)\n",
    "\n",
    "    for blob in container_client.walk_blobs(name_starts_with=prefix):\n",
    "        name: str = blob.name  # type: ignore\n",
    "\n",
    "        if isinstance(blob, BlobPrefix):\n",
    "            blobs += list_blobs(container_name, prefix=name)\n",
    "\n",
    "        blobs.append(blob)\n",
    "\n",
    "    return blobs\n"
   ]
  },
  {
   "cell_type": "code",
   "execution_count": 11,
   "metadata": {},
   "outputs": [],
   "source": [
    "def create_folder(container_name: str, folder_name: str):\n",
    "    container_client = ContainerClient(account_url, container_name, credential)\n",
    "\n",
    "    # This is a hack, but it works better than using the data lake file system\n",
    "    container_client.upload_blob(f\"{folder_name}/_\", \"\").delete_blob()\n",
    "\n",
    "\n",
    "# blob_client.get_blob_properties().metadata['hdi_isfolder'] == 'true'\n"
   ]
  },
  {
   "cell_type": "code",
   "execution_count": 12,
   "metadata": {},
   "outputs": [],
   "source": [
    "def upload_file(container_name: str, local_path: str, azure_path: str):\n",
    "    blob_client = BlobClient(account_url, container_name, azure_path, credential=credential)\n",
    "    with open(local_path, \"rb\") as f:\n",
    "        blob_client.upload_blob(f)"
   ]
  },
  {
   "cell_type": "code",
   "execution_count": 13,
   "metadata": {},
   "outputs": [],
   "source": [
    "# \"Deletes blobs recursively\n",
    "# If deleting a directory, do not include a trailing / in the blob_name\n",
    "def delete_blob(container_name: str, blob_name: str):\n",
    "    for blob_props in list_blobs(container_name, blob_name):\n",
    "        blob_name = str(blob_props.name).removesuffix(\"/\")\n",
    "        blob_client = BlobClient(account_url, container_name, blob_name, credential=credential)\n",
    "\n",
    "        if not blob_client.exists():\n",
    "            continue\n",
    "\n",
    "        blob_client.delete_blob(delete_snapshots='include')"
   ]
  },
  {
   "cell_type": "code",
   "execution_count": 20,
   "metadata": {},
   "outputs": [],
   "source": [
    "import os\n",
    "\n",
    "# uploads all files in a local folder\n",
    "# folder structure is flattened, and all files are in upload/ directory in storage account\n",
    "# TODO: Can these be uploaded in parallel?\n",
    "def upload_folder(container_name: str, local_folder_path: str):\n",
    "    if not os.path.exists(local_folder_path):\n",
    "        raise FileNotFoundError(f\"{local_folder_path} not found\")\n",
    "    if not os.path.isdir(local_folder_path):\n",
    "        raise NotADirectoryError(f\"{local_folder_path} is not a directory\")\n",
    "    \n",
    "    path = os.path.abspath(local_folder_path)\n",
    "    for dir in os.walk(path):\n",
    "        dirpath, _, filenames = dir\n",
    "\n",
    "        for filename in filenames:\n",
    "            upload_file(container_name, f\"{dirpath}/{filename}\", f\"upload/{filename}\")"
   ]
  }
 ],
 "metadata": {
  "kernelspec": {
   "display_name": "Python 3",
   "language": "python",
   "name": "python3"
  },
  "language_info": {
   "codemirror_mode": {
    "name": "ipython",
    "version": 3
   },
   "file_extension": ".py",
   "mimetype": "text/x-python",
   "name": "python",
   "nbconvert_exporter": "python",
   "pygments_lexer": "ipython3",
   "version": "3.11.0"
  },
  "orig_nbformat": 4
 },
 "nbformat": 4,
 "nbformat_minor": 2
}
