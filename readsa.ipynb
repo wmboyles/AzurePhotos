{
 "cells": [
  {
   "cell_type": "code",
   "execution_count": 32,
   "metadata": {},
   "outputs": [],
   "source": [
    "from azure.identity import DefaultAzureCredential\n",
    "from azure.storage.blob import BlobClient\n",
    "\n",
    "credential = DefaultAzureCredential()\n",
    "\n",
    "def download_blob(container_name: str, blob_name: str, out_filename: str | None = None):\n",
    "    if out_filename is None:\n",
    "        out_filename = container_name + blob_name\n",
    "\n",
    "    account_url = f\"https://wboylesbackups.blob.core.windows.net\"\n",
    "    blob_client = BlobClient(account_url, container_name, blob_name, credential=credential)\n",
    "\n",
    "    with open(out_filename, \"wb\") as f:\n",
    "        f.write(blob_client.download_blob().readall())\n"
   ]
  },
  {
   "cell_type": "code",
   "execution_count": 33,
   "metadata": {},
   "outputs": [],
   "source": [
    "container_name = \"videos\"\n",
    "blob_name = \"20220806_132412.jpg\"\n",
    "download_blob(container_name, blob_name)"
   ]
  }
 ],
 "metadata": {
  "kernelspec": {
   "display_name": "Python 3",
   "language": "python",
   "name": "python3"
  },
  "language_info": {
   "codemirror_mode": {
    "name": "ipython",
    "version": 3
   },
   "file_extension": ".py",
   "mimetype": "text/x-python",
   "name": "python",
   "nbconvert_exporter": "python",
   "pygments_lexer": "ipython3",
   "version": "3.11.0"
  },
  "orig_nbformat": 4
 },
 "nbformat": 4,
 "nbformat_minor": 2
}
