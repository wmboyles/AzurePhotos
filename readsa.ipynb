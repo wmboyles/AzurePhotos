{
 "cells": [
  {
   "cell_type": "code",
   "execution_count": 34,
   "metadata": {},
   "outputs": [],
   "source": [
    "from azure.identity import DefaultAzureCredential\n",
    "from azure.storage.blob import BlobClient\n",
    "\n",
    "account_url = f\"https://wboylesbackups.blob.core.windows.net\"\n",
    "credential = DefaultAzureCredential()\n",
    "\n",
    "def download_blob(container_name: str, blob_name: str, out_filename: str | None = None):\n",
    "    if out_filename is None:\n",
    "        out_filename = container_name + blob_name\n",
    "\n",
    "    blob_client = BlobClient(account_url, container_name, blob_name, credential=credential)\n",
    "\n",
    "    with open(out_filename, \"wb\") as f:\n",
    "        f.write(blob_client.download_blob().readall())\n"
   ]
  },
  {
   "cell_type": "code",
   "execution_count": 33,
   "metadata": {},
   "outputs": [],
   "source": [
    "container_name = \"videos\"\n",
    "blob_name = \"20220806_132412.jpg\"\n",
    "download_blob(container_name, blob_name)"
   ]
  },
  {
   "cell_type": "code",
   "execution_count": 69,
   "metadata": {},
   "outputs": [
    {
     "data": {
      "text/plain": [
       "[{'name': 'folder1/20220806_132412.jpg', 'container': 'videos', 'snapshot': None, 'version_id': None, 'is_current_version': None, 'blob_type': <BlobType.BLOCKBLOB: 'BlockBlob'>, 'metadata': {}, 'encrypted_metadata': None, 'last_modified': datetime.datetime(2023, 4, 17, 0, 51, 29, tzinfo=datetime.timezone.utc), 'etag': '0x8DB3EDDE184A792', 'size': 5652690, 'content_range': None, 'append_blob_committed_block_count': None, 'is_append_blob_sealed': None, 'page_blob_sequence_number': None, 'server_encrypted': True, 'copy': {'id': None, 'source': None, 'status': None, 'progress': None, 'completion_time': None, 'status_description': None, 'incremental_copy': None, 'destination_snapshot': None}, 'content_settings': {'content_type': 'image/jpeg', 'content_encoding': None, 'content_language': None, 'content_md5': bytearray(b':\\xf1\\nL\\xd2\\xeeFx\\x97\\x99\\x94;D\\xb9g^'), 'content_disposition': None, 'cache_control': None}, 'lease': {'status': 'unlocked', 'state': 'available', 'duration': None}, 'blob_tier': 'Hot', 'rehydrate_priority': None, 'blob_tier_change_time': None, 'blob_tier_inferred': True, 'deleted': None, 'deleted_time': None, 'remaining_retention_days': None, 'creation_time': datetime.datetime(2023, 4, 17, 0, 51, 29, tzinfo=datetime.timezone.utc), 'archive_status': None, 'encryption_key_sha256': None, 'encryption_scope': None, 'request_server_encrypted': None, 'object_replication_source_properties': [], 'object_replication_destination_policy': None, 'last_accessed_on': None, 'tag_count': None, 'tags': None, 'immutability_policy': {'expiry_time': None, 'policy_mode': None}, 'has_legal_hold': None, 'has_versions_only': None},\n",
       " {'name': '20170421_132403.mp4', 'container': 'videos', 'snapshot': None, 'version_id': None, 'is_current_version': None, 'blob_type': <BlobType.BLOCKBLOB: 'BlockBlob'>, 'metadata': {}, 'encrypted_metadata': None, 'last_modified': datetime.datetime(2023, 4, 16, 22, 26, 41, tzinfo=datetime.timezone.utc), 'etag': '0x8DB3EC9A72F0A94', 'size': 3702699, 'content_range': None, 'append_blob_committed_block_count': None, 'is_append_blob_sealed': None, 'page_blob_sequence_number': None, 'server_encrypted': True, 'copy': {'id': None, 'source': None, 'status': None, 'progress': None, 'completion_time': None, 'status_description': None, 'incremental_copy': None, 'destination_snapshot': None}, 'content_settings': {'content_type': 'video/mp4', 'content_encoding': None, 'content_language': None, 'content_md5': bytearray(b'\\x04\\x04\\xa8\\x8a?\\x98\\x1dPt/\\\\\\xd8\\x1bC\\xc3\\xa9'), 'content_disposition': None, 'cache_control': None}, 'lease': {'status': 'unlocked', 'state': 'broken', 'duration': None}, 'blob_tier': 'Hot', 'rehydrate_priority': None, 'blob_tier_change_time': None, 'blob_tier_inferred': True, 'deleted': None, 'deleted_time': None, 'remaining_retention_days': None, 'creation_time': datetime.datetime(2023, 4, 16, 22, 26, 41, tzinfo=datetime.timezone.utc), 'archive_status': None, 'encryption_key_sha256': None, 'encryption_scope': None, 'request_server_encrypted': None, 'object_replication_source_properties': [], 'object_replication_destination_policy': None, 'last_accessed_on': None, 'tag_count': None, 'tags': None, 'immutability_policy': {'expiry_time': None, 'policy_mode': None}, 'has_legal_hold': None, 'has_versions_only': None}]"
      ]
     },
     "execution_count": 69,
     "metadata": {},
     "output_type": "execute_result"
    }
   ],
   "source": [
    "from azure.storage.blob import BlobPrefix, ContainerClient, BlobProperties\n",
    "\n",
    "# Returns list of BlobProperties in preorder traversal\n",
    "# Does not include folders, only files\n",
    "def list_blobs(container_name: str, prefix: str=\"\") -> list[BlobProperties]:\n",
    "    blobs: list[BlobProperties] = []\n",
    "    container_client = ContainerClient(account_url, container_name, credential)\n",
    "\n",
    "    for blob in container_client.walk_blobs(name_starts_with=prefix):\n",
    "        name: str = blob.name # type: ignore\n",
    "\n",
    "        if isinstance(blob, BlobPrefix):\n",
    "            blobs += list_blobs(container_name, prefix=name)\n",
    "        else:\n",
    "            blobs.append(blob)\n",
    "\n",
    "\n",
    "    return blobs"
   ]
  }
 ],
 "metadata": {
  "kernelspec": {
   "display_name": "Python 3",
   "language": "python",
   "name": "python3"
  },
  "language_info": {
   "codemirror_mode": {
    "name": "ipython",
    "version": 3
   },
   "file_extension": ".py",
   "mimetype": "text/x-python",
   "name": "python",
   "nbconvert_exporter": "python",
   "pygments_lexer": "ipython3",
   "version": "3.11.0"
  },
  "orig_nbformat": 4
 },
 "nbformat": 4,
 "nbformat_minor": 2
}
